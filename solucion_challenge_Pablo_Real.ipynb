{
 "cells": [
  {
   "cell_type": "code",
   "execution_count": 10,
   "metadata": {
    "collapsed": false,
    "deletable": true,
    "editable": true
   },
   "outputs": [
    {
     "name": "stdout",
     "output_type": "stream",
     "text": [
      "/home/dsc/Data/challenge\r\n"
     ]
    }
   ],
   "source": [
    "!pwd"
   ]
  },
  {
   "cell_type": "code",
   "execution_count": 9,
   "metadata": {
    "collapsed": false,
    "deletable": true,
    "editable": true
   },
   "outputs": [
    {
     "name": "stdout",
     "output_type": "stream",
     "text": [
      "bookings.csv.bz2.gz  searches.csv.bz2  Untitled.ipynb\r\n"
     ]
    }
   ],
   "source": [
    "!ls"
   ]
  },
  {
   "cell_type": "markdown",
   "metadata": {
    "deletable": true,
    "editable": true
   },
   "source": [
    "#### Inspecciono los archivos de datos para mirar los posibles separadores"
   ]
  },
  {
   "cell_type": "code",
   "execution_count": 14,
   "metadata": {
    "collapsed": false,
    "deletable": true,
    "editable": true
   },
   "outputs": [
    {
     "name": "stdout",
     "output_type": "stream",
     "text": [
      "Date^Time^TxnCode^OfficeID^Country^Origin^Destination^RoundTrip^NbSegments^Seg1Departure^Seg1Arrival^Seg1Date^Seg1Carrier^Seg1BookingCode^Seg2Departure^Seg2Arrival^Seg2Date^Seg2Carrier^Seg2BookingCode^Seg3Departure^Seg3Arrival^Seg3Date^Seg3Carrier^Seg3BookingCode^Seg4Departure^Seg4Arrival^Seg4Date^Seg4Carrier^Seg4BookingCode^Seg5Departure^Seg5Arrival^Seg5Date^Seg5Carrier^Seg5BookingCode^Seg6Departure^Seg6Arrival^Seg6Date^Seg6Carrier^Seg6BookingCode^From^IsPublishedForNeg^IsFromInternet^IsFromVista^TerminalID^InternetOffice\r\n",
      "2013-01-01^20:25:57^MPT^624d8c3ac0b3a7ca03e3c167e0f48327^DE^TXL^AUH^1^2^TXL^AUH^2013-01-26^D2^^AUH^TXL^2013-02-02^D2^^^^^^^^^^^^^^^^^^^^^^1ASIWS^0^0^0^d41d8cd98f00b204e9800998ecf8427e^FRA\r\n",
      "2013-01-01^10:15:33^MPT^b0af35b31588dc4ab06d5cf2986e8e02^MD^ATH^MIL^0^1^ATH^MIL^2013-01-04^^^^^^^^^^^^^^^^^^^^^^^^^^^^1ASIWS^0^0^0^d41d8cd98f00b204e9800998ecf8427e^KIV\r\n",
      "2013-01-01^18:04:49^MPT^3561a60621de06ab1badc8ca55699ef3^US^ICT^SFO^1^2^ICT^SFO^2013-08-02^^^SFO^ICT^2013-08-09^^^^^^^^^^^^^^^^^^^^^^^1ASIWS^0^0^0^d41d8cd98f00b204e9800998ecf8427e^NYC\r\n",
      "2013-01-01^17:42:40^FXP^1864e5e8013d9414150e91d26b6a558b^SE^RNB^ARN^0^1^RNB^ARN^2013-01-02^DU^W^^^^^^^^^^^^^^^^^^^^^^^^^^1ASI^0^0^0^d41d8cd98f00b204e9800998ecf8427e^STO\r\n",
      "2013-01-01^17:48:29^MPT^1ec336348f44207d2e0027dc3a68c118^NO^OSL^MAD^1^2^OSL^MAD^2013-03-22^^^MAD^OSL^2013-03-31^^^^^^^^^^^^^^^^^^^^^^^1ASIWS^0^0^0^d41d8cd98f00b204e9800998ecf8427e^OSL\r\n",
      "2013-01-01^22:00:28^MPT^3561a60621de06ab1badc8ca55699ef3^US^IAH^BLR^1^2^IAH^BLR^2013-02-14^^^BLR^IAH^2013-02-23^^^^^^^^^^^^^^^^^^^^^^^1ASIWS^0^0^0^d41d8cd98f00b204e9800998ecf8427e^NYC\r\n",
      "2013-01-01^10:47:14^MPT^d327ca6e35cc6732d4709828327ac7c1^DK^CPH^PAR^1^2^CPH^PAR^2013-03-02^^^PAR^CPH^2013-03-07^^^^^^^^^^^^^^^^^^^^^^^1ASI^0^0^0^d41d8cd98f00b204e9800998ecf8427e^CPH\r\n",
      "2013-01-01^23:39:49^MPT^38a3abb0a28e3f00fa79a11f552a5052^FR^PAR^DUB^1^2^PAR^DUB^2013-02-12^^^DUB^PAR^2013-02-17^^^^^^^^^^^^^^^^^^^^^^^1ASIWS^0^0^0^d41d8cd98f00b204e9800998ecf8427e^PAR\r\n",
      "2013-01-01^17:08:46^MPT^c8daef4f8bf73a61aa2c928705f7b82d^ES^DUS^ACE^1^2^DUS^ACE^2013-03-30^^^ACE^DUS^2013-04-06^^^^^^^^^^^^^^^^^^^^^^^1ASIWS^0^0^0^d41d8cd98f00b204e9800998ecf8427e^MAD\r\n",
      "2013-01-01^19:57:57^MPT^28d7a8c95e4db88589d3d35b66920e78^DE^FRA^BGW^1^2^FRA^BGW^2013-02-26^^^BGW^FRA^2013-04-08^^^^^^^^^^^^^^^^^^^^^^^1ASI^0^0^0^d41d8cd98f00b204e9800998ecf8427e^BNJ\r\n",
      "2013-01-01^18:01:31^MPT^b2771a31dc32d1e4af0ea7d758b8442b^FR^PAR^BUD^1^2^PAR^BUD^2013-03-14^^^BUD^PAR^2013-03-17^^^^^^^^^^^^^^^^^^^^^^^1ASIWS^0^0^0^d41d8cd98f00b204e9800998ecf8427e^PAR\r\n",
      "2013-01-01^09:32:18^FFP^53aea156edeed571bbc473c82b01ac4b^BR^RIO^POA^1^2^RIO^POA^2013-02-01^^^POA^RIO^2013-02-18^^^^^^^^^^^^^^^^^^^^^^^1ASIWS^0^0^0^d41d8cd98f00b204e9800998ecf8427e^SAO\r\n",
      "2013-01-01^05:41:14^CAL^dfa4f720052cefaf2e1fe40befc016e6^HK^HKG^MXP^1^2^HKG^MXP^2013-05-21^MI^^MXP^HKG^2013-06-03^MI^^^^^^^^^^^^^^^^^^^^^^1ASIWS^0^0^0^d41d8cd98f00b204e9800998ecf8427e^HKG\r\n",
      "2013-01-01^07:05:45^MPT^d03a30f66f773a65aad66e7bafd1110f^GR^BCN^LON^0^1^BCN^LON^2013-01-30^^^^^^^^^^^^^^^^^^^^^^^^^^^^1ASIWS^0^0^0^d41d8cd98f00b204e9800998ecf8427e^ATH\r\n",
      "2013-01-01^03:30:49^MPT^b04e0620a297a1b50819d31535aa5b61^US^CLE^SNN^1^2^CLE^SNN^2013-06-05^^^SNN^CLE^2013-06-23^^^^^^^^^^^^^^^^^^^^^^^1ASI^0^0^0^d41d8cd98f00b204e9800998ecf8427e^DTW\r\n",
      "2013-01-01^09:19:41^FCP^7da60d9e60a322d3fff7e00cb62baa53^BR^BSB^SLZ^0^1^BSB^SLZ^2013-04-23^TT^^^^^^^^^^^^^^^^^^^^^^^^^^^1ASIWS^0^0^0^d41d8cd98f00b204e9800998ecf8427e^SAO\r\n",
      "2013-01-01^06:20:43^MPT^440642a9bdaeb6287f826cefd73255e8^US^PEK^PHL^0^1^PEK^PHL^2013-02-22^FK^^^^^^^^^^^^^^^^^^^^^^^^^^^1ASIWS^0^0^0^d41d8cd98f00b204e9800998ecf8427e^HPN\r\n",
      "2013-01-01^18:54:24^MPT^8b4fa4e121637f583bfa86ef0fa26c9e^US^BOS^GRU^1^2^BOS^GRU^2013-01-04^^^GRU^BOS^2013-02-04^^^^^^^^^^^^^^^^^^^^^^^1ASIWS^0^0^0^d41d8cd98f00b204e9800998ecf8427e^LAS\r\n",
      "2013-01-01^10:47:24^MPT^b0af35b31588dc4ab06d5cf2986e8e02^MD^TBS^IKT^0^1^TBS^IKT^2013-04-02^^^^^^^^^^^^^^^^^^^^^^^^^^^^1ASIWS^0^0^0^d41d8cd98f00b204e9800998ecf8427e^KIV\r\n",
      "2013-01-01^19:02:13^MPT^cf4ae41b25a075c3a8fee145e1919199^NL^LON^HKG^1^2^LON^HKG^2013-01-05^LE^^HKG^LON^2013-01-11^LE^^^^^^^^^^^^^^^^^^^^^^1ASI^0^0^0^d41d8cd98f00b204e9800998ecf8427e^AMS\r\n",
      "2013-01-01^18:38:29^MPT^ef16c4545ce42ab4c753f44780accf94^ES^MAD^SEA^1^2^MAD^SEA^2013-06-26^^^SEA^MAD^2013-07-26^^^^^^^^^^^^^^^^^^^^^^^1ASIWS^0^0^0^d41d8cd98f00b204e9800998ecf8427e^BCN\r\n",
      "2013-01-01^14:07:13^FXP^8e26311e3f5deaceabc65406c823f84d^DE^DUS^STN^1^2^DUS^STN^2013-03-18^KL^Y^STN^DUS^2013-03-22^KL^Y^^^^^^^^^^^^^^^^^^^^^1ASI^0^0^0^d41d8cd98f00b204e9800998ecf8427e^BER\r\n",
      "2013-01-01^15:14:09^MPT^624d8c3ac0b3a7ca03e3c167e0f48327^DE^PAD^FUE^0^1^PAD^FUE^2013-01-15^I7^^^^^^^^^^^^^^^^^^^^^^^^^^^1ASIWS^0^0^0^d41d8cd98f00b204e9800998ecf8427e^FRA\r\n",
      "2013-01-01^23:32:58^MPT^624d8c3ac0b3a7ca03e3c167e0f48327^DE^DUS^IST^1^2^DUS^IST^2013-03-24^YD^^IST^DUS^2013-03-28^YD^^^^^^^^^^^^^^^^^^^^^^1ASIWS^0^0^0^d41d8cd98f00b204e9800998ecf8427e^FRA\r\n",
      "2013-01-01^10:39:09^MPT^909e0b385888f1305839025d209a5a93^GB^BHX^VIE^1^2^BHX^VIE^2013-01-15^^^VIE^BHX^2013-01-22^^^^^^^^^^^^^^^^^^^^^^^1ASI^0^0^0^d41d8cd98f00b204e9800998ecf8427e^LON\r\n",
      "2013-01-01^13:49:17^MTP^5b0992ae324105dc3d730db5c42569e8^BR^CGB^SAO^0^1^CGB^SAO^2013-01-07^^^^^^^^^^^^^^^^^^^^^^^^^^^^1ASIWS^0^0^0^d41d8cd98f00b204e9800998ecf8427e^RIO\r\n",
      "2013-01-01^21:22:10^MPT^074543ae7a58f4f4c0833d023b2c0db7^CH^ZRH^BRI^1^2^ZRH^BRI^2013-04-06^^^BRI^ZRH^2013-04-14^^^^^^^^^^^^^^^^^^^^^^^1ASI^0^0^0^d41d8cd98f00b204e9800998ecf8427e^GVA\r\n",
      "2013-01-01^18:33:28^CCP^3565e31495ecfd46fa018339d20382b1^SA^RUH^JED^0^1^RUH^JED^2013-01-04^KP^^^^^^^^^^^^^^^^^^^^^^^^^^^1ASIWS^0^0^0^d41d8cd98f00b204e9800998ecf8427e^JED\r\n",
      "2013-01-01^16:59:19^MPT^0c618d30c252b880d8a83ebb76af7643^SE^UME^CPH^1^2^UME^CPH^2013-01-06^^^CPH^UME^2013-01-15^^^^^^^^^^^^^^^^^^^^^^^1ASI^0^0^0^d41d8cd98f00b204e9800998ecf8427e^STO\r\n",
      "2013-01-01^21:25:37^FFP^cb028e2166a95168fee7d483a463ae54^DE^FRA^DRS^0^1^FRA^DRS^2013-04-03^7U^^^^^^^^^^^^^^^^^^^^^^^^^^^1ASIWS^0^0^0^d41d8cd98f00b204e9800998ecf8427e^FRA\r\n",
      "2013-01-01^10:13:02^MPT^0a914cfb66b849dddaa6bb2e66ff0999^DE^BER^DUS^1^2^BER^DUS^2013-02-22^^^DUS^BER^2013-07-24^^^^^^^^^^^^^^^^^^^^^^^1ASI^0^0^0^d41d8cd98f00b204e9800998ecf8427e^BNJ\r\n",
      "2013-01-01^01:47:30^MPT^d03a30f66f773a65aad66e7bafd1110f^GR^WAW^VCE^1^2^WAW^VCE^2013-04-20^^^VCE^WAW^2013-04-27^^^^^^^^^^^^^^^^^^^^^^^1ASIWS^0^0^0^d41d8cd98f00b204e9800998ecf8427e^ATH\r\n",
      "2013-01-01^22:43:07^MPT^cfd7e726d69ea3a852dacad71538a9d0^RU^MOW^NBC^0^1^MOW^NBC^2013-01-05^^^^^^^^^^^^^^^^^^^^^^^^^^^^1ASIWS^0^0^0^d41d8cd98f00b204e9800998ecf8427e^MOW\r\n",
      "2013-01-01^17:09:52^MPT^7bccd1a134d671fd69258d4fa6a006d2^DE^FRA^USM^1^2^FRA^USM^2013-01-02^^^USM^FRA^2013-01-17^^^^^^^^^^^^^^^^^^^^^^^1ASI^0^0^0^d41d8cd98f00b204e9800998ecf8427e^BER\r\n",
      "2013-01-01^17:59:44^MPT^7f45b8c2329242b93ccfcc1082036bc3^IT^FRA^IAD^1^2^FRA^IAD^2013-03-20^KK^^IAD^FRA^2013-03-25^KK^^^^^^^^^^^^^^^^^^^^^^1ASIWS^0^0^0^d41d8cd98f00b204e9800998ecf8427e^ROM\r\n",
      "2013-01-01^16:24:29^MPT^4e05833a9117d44bc8649c315adc12d8^SE^STO^BKK^1^2^STO^BKK^2013-03-04^^^BKK^STO^2013-03-20^^^^^^^^^^^^^^^^^^^^^^^1ASI^0^0^0^d41d8cd98f00b204e9800998ecf8427e^STO\r\n",
      "2013-01-01^16:43:16^MPT^22cf15984f4b13ed8f513a42324666d1^FR^LYS^SIN^1^2^LYS^SIN^2013-04-18^^^SIN^LYS^2013-05-09^^^^^^^^^^^^^^^^^^^^^^^1ASI^0^0^0^d41d8cd98f00b204e9800998ecf8427e^PAR\r\n",
      "2013-01-01^07:25:32^MPT^4d9b402b8d1ec54ee18899df03fb245e^IN^HYD^LKO^0^1^HYD^LKO^2013-01-04^^^^^^^^^^^^^^^^^^^^^^^^^^^^1ASIWS^0^0^0^d41d8cd98f00b204e9800998ecf8427e^AMD\r\n",
      "2013-01-01^01:44:37^MPT^f60e2ae7a4338f72f4b7c36b30a527ec^SE^CPH^BKK^1^2^CPH^BKK^2013-01-09^^^BKK^CPH^2013-02-06^^^^^^^^^^^^^^^^^^^^^^^1ASIWS^0^0^0^d41d8cd98f00b204e9800998ecf8427e^STO\r\n",
      "2013-01-01^18:45:56^FFP^e69e770f8eeedd20c151538923cfb132^AT^GRZ^MUC^1^2^GRZ^MUC^2013-02-23^7U^^MUC^GRZ^2013-03-03^7U^^^^^^^^^^^^^^^^^^^^^^1ASIWS^0^0^0^d41d8cd98f00b204e9800998ecf8427e^VIE\r\n",
      "2013-01-01^06:36:57^FFP^86f167b84e77346849f9439ae87c02a6^SA^DMM^MNL^1^2^DMM^MNL^2013-06-01^OJ^^MNL^DMM^2013-06-30^OJ^^^^^^^^^^^^^^^^^^^^^^1ASIWS^0^0^0^d41d8cd98f00b204e9800998ecf8427e^JED\r\n",
      "2013-01-01^06:31:05^MPT^533d88ecea8b7fb3425bdf1246cb3763^IN^MAA^BBI^0^1^MAA^BBI^2013-02-18^^^^^^^^^^^^^^^^^^^^^^^^^^^^1ASIWS^0^0^0^d41d8cd98f00b204e9800998ecf8427e^DEL\r\n",
      "2013-01-01^12:22:08^MPT^e4cde7323a6845907a1a35648c3d7363^DK^CPH^MNL^1^2^CPH^MNL^2013-01-07^^^MNL^CPH^2013-02-03^^^^^^^^^^^^^^^^^^^^^^^1ASIWS^0^0^0^d41d8cd98f00b204e9800998ecf8427e^CPH\r\n",
      "2013-01-01^16:02:22^MPT^8b4fa4e121637f583bfa86ef0fa26c9e^US^BOS^RSW^1^2^BOS^RSW^2013-04-12^^^RSW^BOS^2013-04-21^^^^^^^^^^^^^^^^^^^^^^^1ASIWS^0^0^0^d41d8cd98f00b204e9800998ecf8427e^LAS\r\n",
      "2013-01-01^07:45:38^MPT^440642a9bdaeb6287f826cefd73255e8^US^PVG^CMH^0^1^PVG^CMH^2013-02-22^FK^^^^^^^^^^^^^^^^^^^^^^^^^^^1ASIWS^0^0^0^d41d8cd98f00b204e9800998ecf8427e^HPN\r\n",
      "2013-01-01^11:48:31^MPT^3561a60621de06ab1badc8ca55699ef3^US^EWR^PLS^1^2^EWR^PLS^2013-01-22^^^PLS^EWR^2013-01-29^^^^^^^^^^^^^^^^^^^^^^^1ASIWS^0^0^0^d41d8cd98f00b204e9800998ecf8427e^NYC\r\n",
      "2013-01-01^13:58:19^MPT^624d8c3ac0b3a7ca03e3c167e0f48327^DE^STR^MIL^1^2^STR^MIL^2013-02-01^G7^^MIL^STR^2013-02-03^G7^^^^^^^^^^^^^^^^^^^^^^1ASIWS^0^0^0^d41d8cd98f00b204e9800998ecf8427e^FRA\r\n",
      "2013-01-01^13:01:06^FQD^ef20b9114af1f9dce772071abde58fcd^DE^TLV^HAJ^1^2^TLV^HAJ^2013-03-26^^^HAJ^TLV^2013-03-26^^^^^^^^^^^^^^^^^^^^^^^1ASI^0^0^0^d41d8cd98f00b204e9800998ecf8427e^BRE\r\n",
      "2013-01-01^19:14:18^MPT^c8daef4f8bf73a61aa2c928705f7b82d^ES^DUS^NKC^0^1^DUS^NKC^2013-01-04^^^^^^^^^^^^^^^^^^^^^^^^^^^^1ASIWS^0^0^0^d41d8cd98f00b204e9800998ecf8427e^MAD\r\n",
      "\r\n",
      "bzcat: I/O or other error, bailing out.  Possible reason follows.\r\n",
      "bzcat: Broken pipe\r\n",
      "\tInput file = searches.csv.bz2, output file = (stdout)\r\n"
     ]
    }
   ],
   "source": [
    "!bzcat searches.csv.bz2 | head -50\n"
   ]
  },
  {
   "cell_type": "code",
   "execution_count": 18,
   "metadata": {
    "collapsed": false
   },
   "outputs": [
    {
     "name": "stdout",
     "output_type": "stream",
     "text": [
      "act_date           ^source^pos_ctry^pos_iata^pos_oid  ^rloc          ^cre_date           ^duration^distance^dep_port^dep_city^dep_ctry^arr_port^arr_city^arr_ctry^lst_port^lst_city^lst_ctry^brd_port^brd_city^brd_ctry^off_port^off_city^off_ctry^mkt_port^mkt_city^mkt_ctry^intl^route          ^carrier^bkg_class^cab_class^brd_time           ^off_time           ^pax^year^month^oid      \r\n",
      "2013-03-05 00:00:00^1A    ^DE      ^a68dd7ae953c8acfb187a1af2dcbe123^1a11ae49fcbf545fd2afc1a24d88d2b7^ea65900e72d71f4626378e2ebd298267^2013-02-22 00:00:00^1708^0^ZRH     ^ZRH     ^CH      ^LHR     ^LON     ^GB      ^ZRH     ^ZRH     ^CH      ^LHR     ^LON     ^GB      ^ZRH     ^ZRH     ^CH      ^LHRZRH  ^LONZRH  ^CHGB    ^1^LHRZRH         ^VI^T        ^Y        ^2013-03-07 08:50:00^2013-03-07 11:33:37^-1^2013^3^NULL     \r\n",
      "2013-03-26 00:00:00^1A    ^US      ^e612b9eeeee6f17f42d9b0d3b79e75ca^7437560d8f276d6d05eeb806d9e7edee^737295a86982c941f1c2da9a46a14043^2013-03-26 00:00:00^135270^0^SAL     ^SAL     ^SV      ^CLT     ^CLT     ^US      ^SAL     ^SAL     ^SV      ^SAL     ^SAL     ^SV      ^CLT     ^CLT     ^US      ^CLTSAL  ^CLTSAL  ^SVUS    ^1^SALATLCLT      ^NV^L        ^Y        ^2013-04-12 13:04:00^2013-04-12 22:05:40^1^2013^3^NULL     \r\n",
      "2013-03-26 00:00:00^1A    ^US      ^e612b9eeeee6f17f42d9b0d3b79e75ca^7437560d8f276d6d05eeb806d9e7edee^737295a86982c941f1c2da9a46a14043^2013-03-26 00:00:00^135270^0^SAL     ^SAL     ^SV      ^CLT     ^CLT     ^US      ^SAL     ^SAL     ^SV      ^CLT     ^CLT     ^US      ^SAL     ^SAL     ^SV      ^CLTSAL  ^CLTSAL  ^SVUS    ^1^CLTATLSAL      ^NV^U        ^Y        ^2013-07-15 07:00:00^2013-07-15 11:34:51^1^2013^3^NULL     \r\n",
      "2013-03-26 00:00:00^1A    ^AU      ^0f984b3bb6bd06661c95529bbd6193bc^36472c6dbaf7afec9136ac40364e2794^5ecf00fdcbcec761c43dc7285253d0c1^2013-03-26 00:00:00^30885^0^AKL     ^AKL     ^NZ      ^SVO     ^MOW     ^RU      ^AKL     ^AKL     ^NZ      ^AKL     ^AKL     ^NZ      ^SVO     ^MOW     ^RU      ^AKLSVO  ^AKLMOW  ^NZRU    ^1^AKLHKGSVO      ^XK^G        ^Y        ^2013-04-24 23:59:00^2013-04-25 16:06:31^1^2013^3^SYDA82546\r\n",
      "2013-03-26 00:00:00^1A    ^AU      ^0f984b3bb6bd06661c95529bbd6193bc^36472c6dbaf7afec9136ac40364e2794^5ecf00fdcbcec761c43dc7285253d0c1^2013-03-26 00:00:00^30885^0^AKL     ^AKL     ^NZ      ^SVO     ^MOW     ^RU      ^AKL     ^AKL     ^NZ      ^SVO     ^MOW     ^RU      ^AKL     ^AKL     ^NZ      ^AKLSVO  ^AKLMOW  ^NZRU    ^1^SVOHKGAKL      ^XK^G        ^Y        ^2013-05-14 20:15:00^2013-05-16 10:44:50^1^2013^3^SYDA82546\r\n",
      "2013-03-20 00:00:00^1V    ^US      ^0283592e45e392871f7e14b1e22a9aaf^2d0f8e7e1bb792625d2f34f221bc38f1^d54708298686de200f8270e7c637af5e^2013-03-20 00:00:00^5923^0^DEN     ^DEN     ^US      ^LGA     ^NYC     ^US      ^DEN     ^DEN     ^US      ^DEN     ^DEN     ^US      ^LGA     ^NYC     ^US      ^DENLGA  ^DENNYC  ^USUS    ^0^DENLGA         ^FK^W        ^Y        ^2013-04-07 10:23:00^2013-04-07 16:14:24^1^2013^3^NULL     \r\n",
      "2013-03-20 00:00:00^1V    ^US      ^0283592e45e392871f7e14b1e22a9aaf^2d0f8e7e1bb792625d2f34f221bc38f1^d54708298686de200f8270e7c637af5e^2013-03-20 00:00:00^5923^0^DEN     ^DEN     ^US      ^LGA     ^NYC     ^US      ^DEN     ^DEN     ^US      ^LGA     ^NYC     ^US      ^DEN     ^DEN     ^US      ^DENLGA  ^DENNYC  ^USUS    ^0^LGADEN         ^FK^K        ^Y        ^2013-04-11 11:15:00^2013-04-11 13:06:24^1^2013^3^NULL     \r\n",
      "2013-03-25 00:00:00^1V    ^JP      ^5af045902bd23cab579915611d99e1e0^5073861d8597467c33596bfe16f23c56^a37584d1485cb35991e4ff1a2ba92262^2013-03-25 00:00:00^8371^60^NRT     ^TYO     ^JP      ^SIN     ^SIN     ^SG      ^HND     ^TYO     ^JP      ^NRT     ^TYO     ^JP      ^SIN     ^SIN     ^SG      ^NRTSIN  ^SINTYO  ^JPSG    ^1^NRTSIN         ^XR^Q        ^Y        ^2013-04-14 11:05:00^2013-04-14 17:10:56^2^2013^3^NULL     \r\n",
      "2013-03-25 00:00:00^1V    ^JP      ^5af045902bd23cab579915611d99e1e0^5073861d8597467c33596bfe16f23c56^a37584d1485cb35991e4ff1a2ba92262^2013-03-25 00:00:00^8371^60^NRT     ^TYO     ^JP      ^SIN     ^SIN     ^SG      ^HND     ^TYO     ^JP      ^SIN     ^SIN     ^SG      ^PEN     ^PEN     ^MY      ^PENSIN  ^PENSIN  ^MYSG    ^1^SINPEN         ^WS^Y        ^Y        ^2013-04-16 15:45:00^2013-04-16 17:15:29^2^2013^3^NULL     \r\n",
      "2013-03-25 00:00:00^1V    ^JP      ^5af045902bd23cab579915611d99e1e0^5073861d8597467c33596bfe16f23c56^a37584d1485cb35991e4ff1a2ba92262^2013-03-25 00:00:00^8371^60^NRT     ^TYO     ^JP      ^SIN     ^SIN     ^SG      ^HND     ^TYO     ^JP      ^PEN     ^PEN     ^MY      ^BKK     ^BKK     ^TH      ^BKKPEN  ^BKKPEN  ^MYTH    ^1^PENBKK         ^EQ^Y        ^Y        ^2013-04-18 08:00:00^2013-04-18 08:53:56^2^2013^3^NULL     \r\n",
      "2013-03-25 00:00:00^1V    ^JP      ^5af045902bd23cab579915611d99e1e0^5073861d8597467c33596bfe16f23c56^a37584d1485cb35991e4ff1a2ba92262^2013-03-25 00:00:00^8371^60^NRT     ^TYO     ^JP      ^SIN     ^SIN     ^SG      ^HND     ^TYO     ^JP      ^BKK     ^BKK     ^TH      ^HND     ^TYO     ^JP      ^BKKHND  ^BKKTYO  ^JPTH    ^1^BKKHND         ^XR^B        ^Y        ^2013-04-19 22:25:00^2013-04-20 06:36:40^2^2013^3^NULL     \r\n",
      "2013-03-28 00:00:00^1V    ^JP      ^5af045902bd23cab579915611d99e1e0^5073861d8597467c33596bfe16f23c56^a37584d1485cb35991e4ff1a2ba92262^2013-03-25 00:00:00^8371^60^NRT     ^TYO     ^JP      ^SIN     ^SIN     ^SG      ^HND     ^TYO     ^JP      ^NRT     ^TYO     ^JP      ^SIN     ^SIN     ^SG      ^NRTSIN  ^SINTYO  ^JPSG    ^1^NRTSIN         ^XR^Q        ^Y        ^2013-04-14 11:05:00^2013-04-14 17:10:56^-2^2013^3^NULL     \r\n",
      "2013-03-28 00:00:00^1V    ^JP      ^5af045902bd23cab579915611d99e1e0^5073861d8597467c33596bfe16f23c56^a37584d1485cb35991e4ff1a2ba92262^2013-03-25 00:00:00^8371^60^NRT     ^TYO     ^JP      ^SIN     ^SIN     ^SG      ^HND     ^TYO     ^JP      ^SIN     ^SIN     ^SG      ^PEN     ^PEN     ^MY      ^PENSIN  ^PENSIN  ^MYSG    ^1^SINPEN         ^WS^Y        ^Y        ^2013-04-16 15:45:00^2013-04-16 17:15:29^-2^2013^3^NULL     \r\n",
      "2013-03-28 00:00:00^1V    ^JP      ^5af045902bd23cab579915611d99e1e0^5073861d8597467c33596bfe16f23c56^a37584d1485cb35991e4ff1a2ba92262^2013-03-25 00:00:00^8371^60^NRT     ^TYO     ^JP      ^SIN     ^SIN     ^SG      ^HND     ^TYO     ^JP      ^PEN     ^PEN     ^MY      ^BKK     ^BKK     ^TH      ^BKKPEN  ^BKKPEN  ^MYTH    ^1^PENBKK         ^EQ^Y        ^Y        ^2013-04-18 08:00:00^2013-04-18 08:53:56^-2^2013^3^NULL     \r\n",
      "2013-03-28 00:00:00^1V    ^JP      ^5af045902bd23cab579915611d99e1e0^5073861d8597467c33596bfe16f23c56^a37584d1485cb35991e4ff1a2ba92262^2013-03-25 00:00:00^8371^60^NRT     ^TYO     ^JP      ^SIN     ^SIN     ^SG      ^HND     ^TYO     ^JP      ^BKK     ^BKK     ^TH      ^HND     ^TYO     ^JP      ^BKKHND  ^BKKTYO  ^JPTH    ^1^BKKHND         ^XR^B        ^Y        ^2013-04-19 22:25:00^2013-04-20 06:36:40^-2^2013^3^NULL     \r\n",
      "2013-03-28 00:00:00^1V    ^JP      ^5af045902bd23cab579915611d99e1e0^5073861d8597467c33596bfe16f23c56^a37584d1485cb35991e4ff1a2ba92262^2013-03-25 00:00:00^8371^60^NRT     ^TYO     ^JP      ^SIN     ^SIN     ^SG      ^HND     ^TYO     ^JP      ^NRT     ^TYO     ^JP      ^SIN     ^SIN     ^SG      ^NRTSIN  ^SINTYO  ^JPSG    ^1^NRTSIN         ^XR^Q        ^Y        ^2013-04-14 11:05:00^2013-04-14 17:10:56^1^2013^3^NULL     \r\n",
      "2013-03-28 00:00:00^1V    ^JP      ^5af045902bd23cab579915611d99e1e0^5073861d8597467c33596bfe16f23c56^a37584d1485cb35991e4ff1a2ba92262^2013-03-25 00:00:00^8371^60^NRT     ^TYO     ^JP      ^SIN     ^SIN     ^SG      ^HND     ^TYO     ^JP      ^SIN     ^SIN     ^SG      ^PEN     ^PEN     ^MY      ^PENSIN  ^PENSIN  ^MYSG    ^1^SINPEN         ^WS^Y        ^Y        ^2013-04-16 15:45:00^2013-04-16 17:15:29^1^2013^3^NULL     \r\n",
      "2013-03-28 00:00:00^1V    ^JP      ^5af045902bd23cab579915611d99e1e0^5073861d8597467c33596bfe16f23c56^a37584d1485cb35991e4ff1a2ba92262^2013-03-25 00:00:00^8371^60^NRT     ^TYO     ^JP      ^SIN     ^SIN     ^SG      ^HND     ^TYO     ^JP      ^PEN     ^PEN     ^MY      ^BKK     ^BKK     ^TH      ^BKKPEN  ^BKKPEN  ^MYTH    ^1^PENBKK         ^EQ^Y        ^Y        ^2013-04-18 08:00:00^2013-04-18 08:53:56^1^2013^3^NULL     \r\n",
      "2013-03-28 00:00:00^1V    ^JP      ^5af045902bd23cab579915611d99e1e0^5073861d8597467c33596bfe16f23c56^a37584d1485cb35991e4ff1a2ba92262^2013-03-25 00:00:00^8371^60^NRT     ^TYO     ^JP      ^SIN     ^SIN     ^SG      ^HND     ^TYO     ^JP      ^BKK     ^BKK     ^TH      ^HND     ^TYO     ^JP      ^BKKHND  ^BKKTYO  ^JPTH    ^1^BKKHND         ^XR^B        ^Y        ^2013-04-19 22:25:00^2013-04-20 06:36:40^1^2013^3^NULL     \r\n",
      "2013-03-13 00:00:00^1V    ^CA      ^f8d15f8b5e04f0cfcb62f299d059beb3^257170d899c9dc7744a83f18c399bc1c^c302645256976e555e80bc46a3f982d7^2013-03-13 00:00:00^11640^0^YYZ     ^YTO     ^CA      ^TUS     ^TUS     ^US      ^YYZ     ^YTO     ^CA      ^YYZ     ^YTO     ^CA      ^TUS     ^TUS     ^US      ^TUSYYZ  ^TUSYTO  ^CAUS    ^1^YYZTUS         ^FK^V        ^Y        ^2013-04-06 13:28:00^2013-04-06 14:48:17^1^2013^3^NULL     \r\n",
      "2013-03-25 00:00:00^1A    ^IT      ^f1c9acf55eb44dedd43734952a9138a6^7f3988fed8c1fe28c882eb979acc046c^57af3d59571623b706c04ac178d5900b^2013-03-12 00:00:00^9240^0^FCO     ^ROM     ^IT      ^CTA     ^CTA     ^IT      ^FCO     ^ROM     ^IT      ^FCO     ^ROM     ^IT      ^CTA     ^CTA     ^IT      ^CTAFCO  ^CTAROM  ^ITIT    ^0^FCOCTA         ^KK^O        ^Y        ^2013-05-25 07:25:00^2013-05-25 08:50:57^-2^2013^3^NULL     \r\n",
      "2013-03-25 00:00:00^1A    ^IT      ^f1c9acf55eb44dedd43734952a9138a6^7f3988fed8c1fe28c882eb979acc046c^57af3d59571623b706c04ac178d5900b^2013-03-12 00:00:00^9175^0^FCO     ^ROM     ^IT      ^CTA     ^CTA     ^IT      ^FCO     ^ROM     ^IT      ^FCO     ^ROM     ^IT      ^CTA     ^CTA     ^IT      ^CTAFCO  ^CTAROM  ^ITIT    ^0^FCOCTA         ^KK^O        ^Y        ^2013-05-25 08:30:00^2013-05-25 09:55:57^2^2013^3^NULL     \r\n",
      "2013-03-12 00:00:00^1A    ^IN      ^ce60b5b55af87be62855ef1787b6b13f^4760d231a384bd15c720e217b190bc92^29b689903e7432d637777855f9542d86^2013-03-12 00:00:00^194949^102^BDQ     ^BDQ     ^IN      ^YWG     ^YWG     ^CA      ^AMD     ^AMD     ^IN      ^BDQ     ^BDQ     ^IN      ^YWG     ^YWG     ^CA      ^BDQYWG  ^BDQYWG  ^CAIN    ^1^BDQDELYYZYWG   ^CH^N        ^Y        ^2013-03-24 20:50:00^2013-03-25 19:34:05^2^2013^3^BDQAK3101\r\n",
      "2013-03-12 00:00:00^1A    ^IN      ^ce60b5b55af87be62855ef1787b6b13f^4760d231a384bd15c720e217b190bc92^29b689903e7432d637777855f9542d86^2013-03-12 00:00:00^194949^102^BDQ     ^BDQ     ^IN      ^YWG     ^YWG     ^CA      ^AMD     ^AMD     ^IN      ^YWG     ^YWG     ^CA      ^AMD     ^AMD     ^IN      ^AMDYWG  ^AMDYWG  ^CAIN    ^1^YWGYYZBRUBOMAMD^CH^K        ^Y        ^2013-08-05 12:35:00^2013-08-07 05:59:19^2^2013^3^BDQAK3101\r\n",
      "2013-03-13 00:00:00^1A    ^IN      ^ce60b5b55af87be62855ef1787b6b13f^4760d231a384bd15c720e217b190bc92^29b689903e7432d637777855f9542d86^2013-03-12 00:00:00^194949^102^BDQ     ^BDQ     ^IN      ^YWG     ^YWG     ^CA      ^AMD     ^AMD     ^IN      ^YWG     ^YWG     ^CA      ^AMD     ^AMD     ^IN      ^AMDYWG  ^AMDYWG  ^CAIN    ^1^YWGYYZBRUBOMAMD^CH^K        ^Y        ^2013-08-05 12:35:00^2013-08-07 05:59:19^-2^2013^3^BDQAK3101\r\n",
      "2013-03-13 00:00:00^1A    ^IN      ^ce60b5b55af87be62855ef1787b6b13f^4760d231a384bd15c720e217b190bc92^29b689903e7432d637777855f9542d86^2013-03-12 00:00:00^219429^102^BDQ     ^BDQ     ^IN      ^YWG     ^YWG     ^CA      ^AMD     ^AMD     ^IN      ^YWG     ^YWG     ^CA      ^AMD     ^AMD     ^IN      ^AMDYWG  ^AMDYWG  ^CAIN    ^1^YWGYYZBRUBOMAMD^CH^K        ^Y        ^2013-08-22 10:35:00^2013-08-24 05:59:19^2^2013^3^BDQAK3101\r\n",
      "2013-03-18 00:00:00^1A    ^IN      ^ce60b5b55af87be62855ef1787b6b13f^4760d231a384bd15c720e217b190bc92^29b689903e7432d637777855f9542d86^2013-03-12 00:00:00^219524^102^BDQ     ^BDQ     ^IN      ^YWG     ^YWG     ^CA      ^AMD     ^AMD     ^IN      ^BDQ     ^BDQ     ^IN      ^DEL     ^DEL     ^IN      ^BDQDEL  ^BDQDEL  ^ININ    ^0^BDQBOMDEL      ^CH^T        ^Y        ^2013-03-24 19:15:00^2013-03-25 04:33:17^2^2013^3^BDQAK3101\r\n",
      "2013-03-19 00:00:00^1A    ^IN      ^ce60b5b55af87be62855ef1787b6b13f^4760d231a384bd15c720e217b190bc92^29b689903e7432d637777855f9542d86^2013-03-12 00:00:00^219524^102^BDQ     ^BDQ     ^IN      ^YWG     ^YWG     ^CA      ^AMD     ^AMD     ^IN      ^BDQ     ^BDQ     ^IN      ^DEL     ^DEL     ^IN      ^BDQDEL  ^BDQDEL  ^ININ    ^0^BDQBOMDEL      ^CH^T        ^Y        ^2013-03-24 19:15:00^2013-03-25 04:33:17^-2^2013^3^BDQAK3101\r\n",
      "2013-03-19 00:00:00^1A    ^IN      ^ce60b5b55af87be62855ef1787b6b13f^4760d231a384bd15c720e217b190bc92^29b689903e7432d637777855f9542d86^2013-03-12 00:00:00^219524^102^BDQ     ^BDQ     ^IN      ^YWG     ^YWG     ^CA      ^AMD     ^AMD     ^IN      ^BDQ     ^BDQ     ^IN      ^YWG     ^YWG     ^CA      ^BDQYWG  ^BDQYWG  ^CAIN    ^1^BDQDELYYZYWG   ^CH^N        ^Y        ^2013-03-24 20:50:00^2013-03-25 19:34:05^-2^2013^3^BDQAK3101\r\n",
      "2013-03-19 00:00:00^1A    ^IN      ^ce60b5b55af87be62855ef1787b6b13f^4760d231a384bd15c720e217b190bc92^29b689903e7432d637777855f9542d86^2013-03-12 00:00:00^219524^102^BDQ     ^BDQ     ^IN      ^YWG     ^YWG     ^CA      ^AMD     ^AMD     ^IN      ^BDQ     ^BDQ     ^IN      ^YWG     ^YWG     ^CA      ^BDQYWG  ^BDQYWG  ^CAIN    ^1^BDQBOMBRUYYZYWG^CH^U        ^Y        ^2013-03-24 19:15:00^2013-03-25 19:34:05^2^2013^3^BDQAK3101\r\n",
      "2013-03-12 00:00:00^1A    ^FR      ^72ed20ddb69598dd472db8701a58a721^38a3abb0a28e3f00fa79a11f552a5052^7b948bad4978da6b181464d764a135e6^2013-03-12 00:00:00^18698^0^CDG     ^PAR     ^FR      ^PVG     ^SHA     ^CN      ^CDG     ^PAR     ^FR      ^CDG     ^PAR     ^FR      ^PVG     ^SHA     ^CN      ^CDGPVG  ^PARSHA  ^CNFR    ^1^CDGZRHPVG      ^VI^W        ^Y        ^2013-03-18 09:50:00^2013-03-19 07:30:06^2^2013^3^PARED38AA\r\n",
      "2013-03-12 00:00:00^1A    ^FR      ^72ed20ddb69598dd472db8701a58a721^38a3abb0a28e3f00fa79a11f552a5052^7b948bad4978da6b181464d764a135e6^2013-03-12 00:00:00^18698^0^CDG     ^PAR     ^FR      ^PVG     ^SHA     ^CN      ^CDG     ^PAR     ^FR      ^PVG     ^SHA     ^CN      ^CPH     ^CPH     ^DK      ^CPHPVG  ^CPHSHA  ^CNDK    ^1^PVGCPH         ^DU^T        ^Y        ^2013-03-30 14:05:00^2013-03-30 17:36:54^2^2013^3^PARED38AA\r\n",
      "2013-03-12 00:00:00^1A    ^FR      ^72ed20ddb69598dd472db8701a58a721^38a3abb0a28e3f00fa79a11f552a5052^7b948bad4978da6b181464d764a135e6^2013-03-12 00:00:00^18698^0^CDG     ^PAR     ^FR      ^PVG     ^SHA     ^CN      ^CDG     ^PAR     ^FR      ^CPH     ^CPH     ^DK      ^CDG     ^PAR     ^FR      ^CDGCPH  ^CPHPAR  ^DKFR    ^1^CPHCDG         ^DU^T        ^Y        ^2013-03-31 08:30:00^2013-03-31 10:28:48^2^2013^3^PARED38AA\r\n",
      "2013-03-12 00:00:00^1A    ^UA      ^a780825254ef5706f1ab2d026abb7cd0^34f865916f67014ecd1aea4c3cafc87d^0ce36224872a9809fcac5939cbe440db^2013-03-12 00:00:00^743^3114^SIP     ^SIP     ^UA      ^SGC     ^SGC     ^RU      ^SGC     ^SGC     ^RU      ^SIP     ^SIP     ^UA      ^SGC     ^SGC     ^RU      ^SGCSIP  ^SGCSIP  ^RUUA    ^1^SIPSVOSGC      ^DF^E        ^Y        ^2013-03-19 12:00:00^2013-03-20 04:23:35^1^2013^3^SIPU23503\r\n",
      "2013-03-12 00:00:00^1A    ^IT      ^af34a799f696cdf3e0ce94b08f85065d^420d4e097328072d82d09db39f61764d^7a1da5f4414531264818d2546bfb3973^2013-03-12 00:00:00^7281^0^LIN     ^MIL     ^IT      ^ALG     ^ALG     ^DZ      ^LIN     ^MIL     ^IT      ^LIN     ^MIL     ^IT      ^ALG     ^ALG     ^DZ      ^ALGLIN  ^ALGMIL  ^DZIT    ^1^LINFCOALG      ^KK^T        ^Y        ^2013-04-08 08:00:00^2013-04-08 11:10:53^1^2013^3^NULL     \r\n",
      "2013-03-12 00:00:00^1A    ^IT      ^af34a799f696cdf3e0ce94b08f85065d^420d4e097328072d82d09db39f61764d^7a1da5f4414531264818d2546bfb3973^2013-03-12 00:00:00^7281^0^LIN     ^MIL     ^IT      ^ALG     ^ALG     ^DZ      ^LIN     ^MIL     ^IT      ^ALG     ^ALG     ^DZ      ^LIN     ^MIL     ^IT      ^ALGLIN  ^ALGMIL  ^DZIT    ^1^ALGFCOLIN      ^KK^O        ^Y        ^2013-04-13 03:20:00^2013-04-13 09:21:15^1^2013^3^NULL     \r\n",
      "2013-03-14 00:00:00^1A    ^IT      ^af34a799f696cdf3e0ce94b08f85065d^420d4e097328072d82d09db39f61764d^7a1da5f4414531264818d2546bfb3973^2013-03-12 00:00:00^7281^0^LIN     ^MIL     ^IT      ^ALG     ^ALG     ^DZ      ^LIN     ^MIL     ^IT      ^LIN     ^MIL     ^IT      ^ALG     ^ALG     ^DZ      ^ALGLIN  ^ALGMIL  ^DZIT    ^1^LINFCOALG      ^KK^T        ^Y        ^2013-04-08 08:00:00^2013-04-08 11:10:53^-1^2013^3^NULL     \r\n",
      "2013-03-14 00:00:00^1A    ^IT      ^af34a799f696cdf3e0ce94b08f85065d^420d4e097328072d82d09db39f61764d^7a1da5f4414531264818d2546bfb3973^2013-03-12 00:00:00^7281^0^LIN     ^MIL     ^IT      ^ALG     ^ALG     ^DZ      ^LIN     ^MIL     ^IT      ^ALG     ^ALG     ^DZ      ^LIN     ^MIL     ^IT      ^ALGLIN  ^ALGMIL  ^DZIT    ^1^ALGFCOLIN      ^KK^O        ^Y        ^2013-04-13 03:20:00^2013-04-13 09:21:15^-1^2013^3^NULL     \r\n",
      "2013-03-12 00:00:00^1A    ^IN      ^a171b04cbc52803b9380311815be83eb^a1b06dc7ea4426040104f5b1394db502^b41711e029cd18b987d95c7daff5f2f7^2013-03-12 00:00:00^37988^0^DEL     ^DEL     ^IN      ^DMM     ^DMM     ^SA      ^DEL     ^DEL     ^IN      ^DEL     ^DEL     ^IN      ^DMM     ^DMM     ^SA      ^DELDMM  ^DELDMM  ^INSA    ^1^DELDMM         ^KS^Q        ^Y        ^2013-03-14 01:00:00^2013-03-14 02:28:15^2^2013^3^NULL     \r\n",
      "2013-03-12 00:00:00^1A    ^IN      ^a171b04cbc52803b9380311815be83eb^a1b06dc7ea4426040104f5b1394db502^b41711e029cd18b987d95c7daff5f2f7^2013-03-12 00:00:00^37988^0^DEL     ^DEL     ^IN      ^DMM     ^DMM     ^SA      ^DEL     ^DEL     ^IN      ^DMM     ^DMM     ^SA      ^DEL     ^DEL     ^IN      ^DELDMM  ^DELDMM  ^INSA    ^1^DMMDEL         ^KS^Q        ^Y        ^2013-04-09 03:40:00^2013-04-09 10:08:15^2^2013^3^NULL     \r\n",
      "2013-03-13 00:00:00^1A    ^IN      ^a171b04cbc52803b9380311815be83eb^a1b06dc7ea4426040104f5b1394db502^b41711e029cd18b987d95c7daff5f2f7^2013-03-12 00:00:00^37988^0^DEL     ^DEL     ^IN      ^DMM     ^DMM     ^SA      ^DEL     ^DEL     ^IN      ^DEL     ^DEL     ^IN      ^DMM     ^DMM     ^SA      ^DELDMM  ^DELDMM  ^INSA    ^1^DELDMM         ^KS^Q        ^Y        ^2013-03-14 01:00:00^2013-03-14 02:28:15^-2^2013^3^NULL     \r\n",
      "2013-03-13 00:00:00^1A    ^IN      ^a171b04cbc52803b9380311815be83eb^a1b06dc7ea4426040104f5b1394db502^b41711e029cd18b987d95c7daff5f2f7^2013-03-12 00:00:00^37988^0^DEL     ^DEL     ^IN      ^DMM     ^DMM     ^SA      ^DEL     ^DEL     ^IN      ^DMM     ^DMM     ^SA      ^DEL     ^DEL     ^IN      ^DELDMM  ^DELDMM  ^INSA    ^1^DMMDEL         ^KS^Q        ^Y        ^2013-04-09 03:40:00^2013-04-09 10:08:15^-2^2013^3^NULL     \r\n",
      "2013-03-13 00:00:00^1A    ^IN      ^a171b04cbc52803b9380311815be83eb^a1b06dc7ea4426040104f5b1394db502^b41711e029cd18b987d95c7daff5f2f7^2013-03-12 00:00:00^37988^0^DEL     ^DEL     ^IN      ^DMM     ^DMM     ^SA      ^DEL     ^DEL     ^IN      ^DEL     ^DEL     ^IN      ^DMM     ^DMM     ^SA      ^DELDMM  ^DELDMM  ^INSA    ^1^DELDMM         ^KS^Q        ^Y        ^2013-03-14 01:00:00^2013-03-14 02:28:15^1^2013^3^NULL     \r\n",
      "2013-03-13 00:00:00^1A    ^IN      ^a171b04cbc52803b9380311815be83eb^a1b06dc7ea4426040104f5b1394db502^b41711e029cd18b987d95c7daff5f2f7^2013-03-12 00:00:00^37988^0^DEL     ^DEL     ^IN      ^DMM     ^DMM     ^SA      ^DEL     ^DEL     ^IN      ^DMM     ^DMM     ^SA      ^DEL     ^DEL     ^IN      ^DELDMM  ^DELDMM  ^INSA    ^1^DMMDEL         ^KS^Q        ^Y        ^2013-04-09 03:40:00^2013-04-09 10:08:15^1^2013^3^NULL     \r\n",
      "2013-03-12 00:00:00^1A    ^RU      ^4fecb6ea5afb51ba32e2033a548f30f0^7326b849b91e49d5b597213f0c308392^c0aeb3ac3fdf47735ea3a4cfb462c9b2^2013-03-12 00:00:00^186^1957^SOF     ^SOF     ^BG      ^LED     ^LED     ^RU      ^LED     ^LED     ^RU      ^SOF     ^SOF     ^BG      ^LED     ^LED     ^RU      ^LEDSOF  ^LEDSOF  ^BGRU    ^1^SOFLED         ^PG^W        ^Y        ^2013-03-23 10:00:00^2013-03-23 15:06:09^1^2013^3^NULL     \r\n",
      "2013-03-27 00:00:00^1A    ^PT      ^fe865f9d8c1f23eba1647744c5467378^a1d2d5359a55cc2617c9a86ae0b8a379^6ae8f9f359ed708b0758e53c7d1bbba4^2013-03-27 00:00:00^40674^0^ORY     ^PAR     ^FR      ^LIS     ^LIS     ^PT      ^ORY     ^PAR     ^FR      ^ORY     ^PAR     ^FR      ^LIS     ^LIS     ^PT      ^LISORY  ^LISPAR  ^FRPT    ^1^ORYLIS         ^KS^L        ^Y        ^2013-05-05 15:50:00^2013-05-05 17:19:23^2^2013^3^NULL     \r\n",
      "2013-03-27 00:00:00^1A    ^PT      ^fe865f9d8c1f23eba1647744c5467378^a1d2d5359a55cc2617c9a86ae0b8a379^6ae8f9f359ed708b0758e53c7d1bbba4^2013-03-27 00:00:00^40674^0^ORY     ^PAR     ^FR      ^LIS     ^LIS     ^PT      ^ORY     ^PAR     ^FR      ^LIS     ^LIS     ^PT      ^ORY     ^PAR     ^FR      ^LISORY  ^LISPAR  ^FRPT    ^1^LISORY         ^KS^V        ^Y        ^2013-06-02 18:15:00^2013-06-02 21:44:23^2^2013^3^NULL     \r\n",
      "2013-03-28 00:00:00^1A    ^PT      ^fe865f9d8c1f23eba1647744c5467378^a1d2d5359a55cc2617c9a86ae0b8a379^6ae8f9f359ed708b0758e53c7d1bbba4^2013-03-27 00:00:00^40674^0^ORY     ^PAR     ^FR      ^LIS     ^LIS     ^PT      ^ORY     ^PAR     ^FR      ^LIS     ^LIS     ^PT      ^ORY     ^PAR     ^FR      ^LISORY  ^LISPAR  ^FRPT    ^1^LISORY         ^KS^V        ^Y        ^2013-06-02 18:15:00^2013-06-02 21:44:23^-2^2013^3^NULL     \r\n",
      "2013-03-28 00:00:00^1A    ^PT      ^fe865f9d8c1f23eba1647744c5467378^a1d2d5359a55cc2617c9a86ae0b8a379^6ae8f9f359ed708b0758e53c7d1bbba4^2013-03-27 00:00:00^38724^0^ORY     ^PAR     ^FR      ^LIS     ^LIS     ^PT      ^ORY     ^PAR     ^FR      ^LIS     ^LIS     ^PT      ^ORY     ^PAR     ^FR      ^LISORY  ^LISPAR  ^FRPT    ^1^LISORY         ^KS^U        ^Y        ^2013-06-01 09:45:00^2013-06-01 13:14:23^2^2013^3^NULL     \r\n",
      "\r\n",
      "bzcat: I/O or other error, bailing out.  Possible reason follows.\r\n",
      "bzcat: Broken pipe\r\n",
      "\tInput file = (stdin), output file = (stdout)\r\n",
      "\r\n",
      "gzip: stdout: Broken pipe\r\n"
     ]
    }
   ],
   "source": [
    "!zcat bookings.csv.bz2.gz | bzcat | head -50"
   ]
  },
  {
   "cell_type": "markdown",
   "metadata": {},
   "source": [
    "#### Comenzamos a inspeccionar los datos"
   ]
  },
  {
   "cell_type": "code",
   "execution_count": 20,
   "metadata": {
    "collapsed": true,
    "deletable": true,
    "editable": true
   },
   "outputs": [],
   "source": [
    "path1='/home/dsc/Data/challenge/bookings.csv.bz2.gz'\n",
    "path2='/home/dsc/Data/challenge/searches.csv.bz2'"
   ]
  },
  {
   "cell_type": "code",
   "execution_count": 21,
   "metadata": {
    "collapsed": true,
    "deletable": true,
    "editable": true
   },
   "outputs": [],
   "source": [
    "import pandas as pd\n",
    "import numpy as np\n",
    "import zipfile"
   ]
  },
  {
   "cell_type": "code",
   "execution_count": null,
   "metadata": {
    "collapsed": false,
    "deletable": true,
    "editable": true
   },
   "outputs": [],
   "source": [
    "searches = pd.read_csv(path2,sep='^',compression='bz2')"
   ]
  },
  {
   "cell_type": "code",
   "execution_count": null,
   "metadata": {
    "collapsed": true
   },
   "outputs": [],
   "source": [
    "searches.head()"
   ]
  },
  {
   "cell_type": "code",
   "execution_count": null,
   "metadata": {
    "collapsed": true
   },
   "outputs": [],
   "source": []
  },
  {
   "cell_type": "code",
   "execution_count": null,
   "metadata": {
    "collapsed": true
   },
   "outputs": [],
   "source": []
  },
  {
   "cell_type": "code",
   "execution_count": null,
   "metadata": {
    "collapsed": true
   },
   "outputs": [],
   "source": []
  },
  {
   "cell_type": "code",
   "execution_count": null,
   "metadata": {
    "collapsed": true
   },
   "outputs": [],
   "source": []
  },
  {
   "cell_type": "code",
   "execution_count": null,
   "metadata": {
    "collapsed": true
   },
   "outputs": [],
   "source": []
  },
  {
   "cell_type": "code",
   "execution_count": null,
   "metadata": {
    "collapsed": true
   },
   "outputs": [],
   "source": []
  },
  {
   "cell_type": "code",
   "execution_count": null,
   "metadata": {
    "collapsed": true
   },
   "outputs": [],
   "source": []
  },
  {
   "cell_type": "code",
   "execution_count": null,
   "metadata": {
    "collapsed": true
   },
   "outputs": [],
   "source": []
  }
 ],
 "metadata": {
  "kernelspec": {
   "display_name": "Python 2",
   "language": "python",
   "name": "python2"
  },
  "language_info": {
   "codemirror_mode": {
    "name": "ipython",
    "version": 2
   },
   "file_extension": ".py",
   "mimetype": "text/x-python",
   "name": "python",
   "nbconvert_exporter": "python",
   "pygments_lexer": "ipython2",
   "version": "2.7.13"
  }
 },
 "nbformat": 4,
 "nbformat_minor": 2
}
